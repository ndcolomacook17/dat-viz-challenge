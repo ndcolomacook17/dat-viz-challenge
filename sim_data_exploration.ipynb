{
 "cells": [
  {
   "cell_type": "code",
   "execution_count": 39,
   "source": [
    "# Import necessary libs \n",
    "import pandas as pd \n",
    "import numpy as np\n",
    "import matplotlib.pyplot as plt"
   ],
   "outputs": [],
   "metadata": {}
  },
  {
   "cell_type": "markdown",
   "source": [
    "## Importing and exploring dataset"
   ],
   "metadata": {}
  },
  {
   "cell_type": "code",
   "execution_count": 25,
   "source": [
    "# Read in data and preview rows and columns of dataset \n",
    "df_assets = pd.read_csv('hazard_for_challenge.csv', parse_dates=True)\n",
    "print(df_assets.shape)"
   ],
   "outputs": [
    {
     "output_type": "stream",
     "name": "stdout",
     "text": [
      "(2100, 30)\n"
     ]
    }
   ],
   "metadata": {}
  },
  {
   "cell_type": "markdown",
   "source": [
    "Looking at a preview of the data, we see that the failure probability for each asset is recorded from October 27th, 2012 - Nov 9th, 2012 (assuming dates are in MM/DD/YY format). "
   ],
   "metadata": {}
  },
  {
   "cell_type": "code",
   "execution_count": 153,
   "source": [
    "df_assets.head(5)"
   ],
   "outputs": [
    {
     "output_type": "execute_result",
     "data": {
      "text/html": [
       "<div>\n",
       "<style scoped>\n",
       "    .dataframe tbody tr th:only-of-type {\n",
       "        vertical-align: middle;\n",
       "    }\n",
       "\n",
       "    .dataframe tbody tr th {\n",
       "        vertical-align: top;\n",
       "    }\n",
       "\n",
       "    .dataframe thead th {\n",
       "        text-align: right;\n",
       "    }\n",
       "</style>\n",
       "<table border=\"1\" class=\"dataframe\">\n",
       "  <thead>\n",
       "    <tr style=\"text-align: right;\">\n",
       "      <th></th>\n",
       "      <th>reference</th>\n",
       "      <th>longitude</th>\n",
       "      <th>latitude</th>\n",
       "      <th>10/27/12 0:00</th>\n",
       "      <th>10/27/12 12:00</th>\n",
       "      <th>10/28/12 0:00</th>\n",
       "      <th>10/28/12 12:00</th>\n",
       "      <th>10/29/12 0:00</th>\n",
       "      <th>10/29/12 12:00</th>\n",
       "      <th>10/30/12 0:00</th>\n",
       "      <th>...</th>\n",
       "      <th>11/4/12 12:00</th>\n",
       "      <th>11/5/12 0:00</th>\n",
       "      <th>11/5/12 12:00</th>\n",
       "      <th>11/6/12 0:00</th>\n",
       "      <th>11/6/12 12:00</th>\n",
       "      <th>11/7/12 0:00</th>\n",
       "      <th>11/7/12 12:00</th>\n",
       "      <th>11/8/12 0:00</th>\n",
       "      <th>11/8/12 12:00</th>\n",
       "      <th>11/9/12 0:00</th>\n",
       "    </tr>\n",
       "  </thead>\n",
       "  <tbody>\n",
       "    <tr>\n",
       "      <th>0</th>\n",
       "      <td>asset_1</td>\n",
       "      <td>-73.932491</td>\n",
       "      <td>40.795385</td>\n",
       "      <td>0.000080</td>\n",
       "      <td>0.000080</td>\n",
       "      <td>0.000080</td>\n",
       "      <td>0.000080</td>\n",
       "      <td>0.000080</td>\n",
       "      <td>0.000092</td>\n",
       "      <td>0.000092</td>\n",
       "      <td>...</td>\n",
       "      <td>0.000095</td>\n",
       "      <td>0.000095</td>\n",
       "      <td>0.000095</td>\n",
       "      <td>0.000095</td>\n",
       "      <td>0.000095</td>\n",
       "      <td>0.000095</td>\n",
       "      <td>0.000095</td>\n",
       "      <td>0.000095</td>\n",
       "      <td>0.000095</td>\n",
       "      <td>0.000095</td>\n",
       "    </tr>\n",
       "    <tr>\n",
       "      <th>1</th>\n",
       "      <td>asset_2</td>\n",
       "      <td>-74.005356</td>\n",
       "      <td>40.756943</td>\n",
       "      <td>0.000079</td>\n",
       "      <td>0.000079</td>\n",
       "      <td>0.000079</td>\n",
       "      <td>0.000079</td>\n",
       "      <td>0.000079</td>\n",
       "      <td>0.000079</td>\n",
       "      <td>0.000079</td>\n",
       "      <td>...</td>\n",
       "      <td>0.000085</td>\n",
       "      <td>0.000085</td>\n",
       "      <td>0.000085</td>\n",
       "      <td>0.000085</td>\n",
       "      <td>0.000085</td>\n",
       "      <td>0.000085</td>\n",
       "      <td>0.000085</td>\n",
       "      <td>0.000085</td>\n",
       "      <td>0.000085</td>\n",
       "      <td>0.000085</td>\n",
       "    </tr>\n",
       "    <tr>\n",
       "      <th>2</th>\n",
       "      <td>asset_3</td>\n",
       "      <td>-73.976609</td>\n",
       "      <td>40.790758</td>\n",
       "      <td>0.000021</td>\n",
       "      <td>0.000021</td>\n",
       "      <td>0.000021</td>\n",
       "      <td>0.000021</td>\n",
       "      <td>0.000021</td>\n",
       "      <td>0.000021</td>\n",
       "      <td>0.000021</td>\n",
       "      <td>...</td>\n",
       "      <td>0.000021</td>\n",
       "      <td>0.000021</td>\n",
       "      <td>0.000021</td>\n",
       "      <td>0.000021</td>\n",
       "      <td>0.000021</td>\n",
       "      <td>0.000021</td>\n",
       "      <td>0.000021</td>\n",
       "      <td>0.000021</td>\n",
       "      <td>0.000021</td>\n",
       "      <td>0.000021</td>\n",
       "    </tr>\n",
       "    <tr>\n",
       "      <th>3</th>\n",
       "      <td>asset_4</td>\n",
       "      <td>-73.945386</td>\n",
       "      <td>40.783956</td>\n",
       "      <td>0.000156</td>\n",
       "      <td>0.000156</td>\n",
       "      <td>0.000156</td>\n",
       "      <td>0.000156</td>\n",
       "      <td>0.000156</td>\n",
       "      <td>0.000156</td>\n",
       "      <td>0.000156</td>\n",
       "      <td>...</td>\n",
       "      <td>0.000157</td>\n",
       "      <td>0.000157</td>\n",
       "      <td>0.000157</td>\n",
       "      <td>0.000157</td>\n",
       "      <td>0.000157</td>\n",
       "      <td>0.000157</td>\n",
       "      <td>0.000157</td>\n",
       "      <td>0.000157</td>\n",
       "      <td>0.000157</td>\n",
       "      <td>0.000157</td>\n",
       "    </tr>\n",
       "    <tr>\n",
       "      <th>4</th>\n",
       "      <td>asset_5</td>\n",
       "      <td>-73.915991</td>\n",
       "      <td>40.870123</td>\n",
       "      <td>0.000016</td>\n",
       "      <td>0.000016</td>\n",
       "      <td>0.000016</td>\n",
       "      <td>0.000016</td>\n",
       "      <td>0.000016</td>\n",
       "      <td>0.000016</td>\n",
       "      <td>0.000016</td>\n",
       "      <td>...</td>\n",
       "      <td>0.000016</td>\n",
       "      <td>0.000016</td>\n",
       "      <td>0.000016</td>\n",
       "      <td>0.000016</td>\n",
       "      <td>0.000016</td>\n",
       "      <td>0.000016</td>\n",
       "      <td>0.000016</td>\n",
       "      <td>0.000016</td>\n",
       "      <td>0.000016</td>\n",
       "      <td>0.000016</td>\n",
       "    </tr>\n",
       "  </tbody>\n",
       "</table>\n",
       "<p>5 rows × 30 columns</p>\n",
       "</div>"
      ],
      "text/plain": [
       "  reference  longitude   latitude  10/27/12 0:00  10/27/12 12:00  \\\n",
       "0   asset_1 -73.932491  40.795385       0.000080        0.000080   \n",
       "1   asset_2 -74.005356  40.756943       0.000079        0.000079   \n",
       "2   asset_3 -73.976609  40.790758       0.000021        0.000021   \n",
       "3   asset_4 -73.945386  40.783956       0.000156        0.000156   \n",
       "4   asset_5 -73.915991  40.870123       0.000016        0.000016   \n",
       "\n",
       "   10/28/12 0:00  10/28/12 12:00  10/29/12 0:00  10/29/12 12:00  \\\n",
       "0       0.000080        0.000080       0.000080        0.000092   \n",
       "1       0.000079        0.000079       0.000079        0.000079   \n",
       "2       0.000021        0.000021       0.000021        0.000021   \n",
       "3       0.000156        0.000156       0.000156        0.000156   \n",
       "4       0.000016        0.000016       0.000016        0.000016   \n",
       "\n",
       "   10/30/12 0:00  ...  11/4/12 12:00  11/5/12 0:00  11/5/12 12:00  \\\n",
       "0       0.000092  ...       0.000095      0.000095       0.000095   \n",
       "1       0.000079  ...       0.000085      0.000085       0.000085   \n",
       "2       0.000021  ...       0.000021      0.000021       0.000021   \n",
       "3       0.000156  ...       0.000157      0.000157       0.000157   \n",
       "4       0.000016  ...       0.000016      0.000016       0.000016   \n",
       "\n",
       "   11/6/12 0:00  11/6/12 12:00  11/7/12 0:00  11/7/12 12:00  11/8/12 0:00  \\\n",
       "0      0.000095       0.000095      0.000095       0.000095      0.000095   \n",
       "1      0.000085       0.000085      0.000085       0.000085      0.000085   \n",
       "2      0.000021       0.000021      0.000021       0.000021      0.000021   \n",
       "3      0.000157       0.000157      0.000157       0.000157      0.000157   \n",
       "4      0.000016       0.000016      0.000016       0.000016      0.000016   \n",
       "\n",
       "   11/8/12 12:00  11/9/12 0:00  \n",
       "0       0.000095      0.000095  \n",
       "1       0.000085      0.000085  \n",
       "2       0.000021      0.000021  \n",
       "3       0.000157      0.000157  \n",
       "4       0.000016      0.000016  \n",
       "\n",
       "[5 rows x 30 columns]"
      ]
     },
     "metadata": {},
     "execution_count": 153
    }
   ],
   "metadata": {}
  },
  {
   "cell_type": "markdown",
   "source": [
    "Here we see that there are no null values and also that every column besides the first is a numerical value, allowing us to explore a stastical summary of the average health of assets at each timestamp. "
   ],
   "metadata": {}
  },
  {
   "cell_type": "code",
   "execution_count": 27,
   "source": [
    "df_assets.info()"
   ],
   "outputs": [
    {
     "output_type": "stream",
     "name": "stdout",
     "text": [
      "<class 'pandas.core.frame.DataFrame'>\n",
      "RangeIndex: 2100 entries, 0 to 2099\n",
      "Data columns (total 30 columns):\n",
      " #   Column          Non-Null Count  Dtype  \n",
      "---  ------          --------------  -----  \n",
      " 0   reference       2100 non-null   object \n",
      " 1   longitude       2100 non-null   float64\n",
      " 2   latitude        2100 non-null   float64\n",
      " 3   10/27/12 0:00   2100 non-null   float64\n",
      " 4   10/27/12 12:00  2100 non-null   float64\n",
      " 5   10/28/12 0:00   2100 non-null   float64\n",
      " 6   10/28/12 12:00  2100 non-null   float64\n",
      " 7   10/29/12 0:00   2100 non-null   float64\n",
      " 8   10/29/12 12:00  2100 non-null   float64\n",
      " 9   10/30/12 0:00   2100 non-null   float64\n",
      " 10  10/30/12 12:00  2100 non-null   float64\n",
      " 11  10/31/12 0:00   2100 non-null   float64\n",
      " 12  10/31/12 12:00  2100 non-null   float64\n",
      " 13  11/1/12 0:00    2100 non-null   float64\n",
      " 14  11/1/12 12:00   2100 non-null   float64\n",
      " 15  11/2/12 0:00    2100 non-null   float64\n",
      " 16  11/2/12 12:00   2100 non-null   float64\n",
      " 17  11/3/12 0:00    2100 non-null   float64\n",
      " 18  11/3/12 12:00   2100 non-null   float64\n",
      " 19  11/4/12 0:00    2100 non-null   float64\n",
      " 20  11/4/12 12:00   2100 non-null   float64\n",
      " 21  11/5/12 0:00    2100 non-null   float64\n",
      " 22  11/5/12 12:00   2100 non-null   float64\n",
      " 23  11/6/12 0:00    2100 non-null   float64\n",
      " 24  11/6/12 12:00   2100 non-null   float64\n",
      " 25  11/7/12 0:00    2100 non-null   float64\n",
      " 26  11/7/12 12:00   2100 non-null   float64\n",
      " 27  11/8/12 0:00    2100 non-null   float64\n",
      " 28  11/8/12 12:00   2100 non-null   float64\n",
      " 29  11/9/12 0:00    2100 non-null   float64\n",
      "dtypes: float64(29), object(1)\n",
      "memory usage: 492.3+ KB\n"
     ]
    }
   ],
   "metadata": {}
  },
  {
   "cell_type": "markdown",
   "source": [
    "Here we can see a statistical summary of asset health for each time stamp, excluding the asset name:"
   ],
   "metadata": {}
  },
  {
   "cell_type": "code",
   "execution_count": 136,
   "source": [
    "df_assets.describe()"
   ],
   "outputs": [
    {
     "output_type": "execute_result",
     "data": {
      "text/html": [
       "<div>\n",
       "<style scoped>\n",
       "    .dataframe tbody tr th:only-of-type {\n",
       "        vertical-align: middle;\n",
       "    }\n",
       "\n",
       "    .dataframe tbody tr th {\n",
       "        vertical-align: top;\n",
       "    }\n",
       "\n",
       "    .dataframe thead th {\n",
       "        text-align: right;\n",
       "    }\n",
       "</style>\n",
       "<table border=\"1\" class=\"dataframe\">\n",
       "  <thead>\n",
       "    <tr style=\"text-align: right;\">\n",
       "      <th></th>\n",
       "      <th>longitude</th>\n",
       "      <th>latitude</th>\n",
       "      <th>10/27/12 0:00</th>\n",
       "      <th>10/27/12 12:00</th>\n",
       "      <th>10/28/12 0:00</th>\n",
       "      <th>10/28/12 12:00</th>\n",
       "      <th>10/29/12 0:00</th>\n",
       "      <th>10/29/12 12:00</th>\n",
       "      <th>10/30/12 0:00</th>\n",
       "      <th>10/30/12 12:00</th>\n",
       "      <th>...</th>\n",
       "      <th>11/4/12 12:00</th>\n",
       "      <th>11/5/12 0:00</th>\n",
       "      <th>11/5/12 12:00</th>\n",
       "      <th>11/6/12 0:00</th>\n",
       "      <th>11/6/12 12:00</th>\n",
       "      <th>11/7/12 0:00</th>\n",
       "      <th>11/7/12 12:00</th>\n",
       "      <th>11/8/12 0:00</th>\n",
       "      <th>11/8/12 12:00</th>\n",
       "      <th>11/9/12 0:00</th>\n",
       "    </tr>\n",
       "  </thead>\n",
       "  <tbody>\n",
       "    <tr>\n",
       "      <th>count</th>\n",
       "      <td>2100.000000</td>\n",
       "      <td>2100.000000</td>\n",
       "      <td>2.100000e+03</td>\n",
       "      <td>2.100000e+03</td>\n",
       "      <td>2.100000e+03</td>\n",
       "      <td>2.100000e+03</td>\n",
       "      <td>2.100000e+03</td>\n",
       "      <td>2.100000e+03</td>\n",
       "      <td>2.100000e+03</td>\n",
       "      <td>2.100000e+03</td>\n",
       "      <td>...</td>\n",
       "      <td>2.100000e+03</td>\n",
       "      <td>2.100000e+03</td>\n",
       "      <td>2.100000e+03</td>\n",
       "      <td>2.100000e+03</td>\n",
       "      <td>2.100000e+03</td>\n",
       "      <td>2.100000e+03</td>\n",
       "      <td>2.100000e+03</td>\n",
       "      <td>2.100000e+03</td>\n",
       "      <td>2.100000e+03</td>\n",
       "      <td>2.100000e+03</td>\n",
       "    </tr>\n",
       "    <tr>\n",
       "      <th>mean</th>\n",
       "      <td>-73.968207</td>\n",
       "      <td>40.774830</td>\n",
       "      <td>9.068156e-04</td>\n",
       "      <td>9.070401e-04</td>\n",
       "      <td>9.072788e-04</td>\n",
       "      <td>9.077028e-04</td>\n",
       "      <td>9.080505e-04</td>\n",
       "      <td>9.083254e-04</td>\n",
       "      <td>9.086161e-04</td>\n",
       "      <td>9.088420e-04</td>\n",
       "      <td>...</td>\n",
       "      <td>9.195066e-04</td>\n",
       "      <td>9.198320e-04</td>\n",
       "      <td>9.202143e-04</td>\n",
       "      <td>9.204650e-04</td>\n",
       "      <td>9.207553e-04</td>\n",
       "      <td>9.216068e-04</td>\n",
       "      <td>9.219146e-04</td>\n",
       "      <td>9.227145e-04</td>\n",
       "      <td>9.241808e-04</td>\n",
       "      <td>9.244133e-04</td>\n",
       "    </tr>\n",
       "    <tr>\n",
       "      <th>std</th>\n",
       "      <td>0.027031</td>\n",
       "      <td>0.044345</td>\n",
       "      <td>7.632833e-03</td>\n",
       "      <td>7.634636e-03</td>\n",
       "      <td>7.636442e-03</td>\n",
       "      <td>7.638241e-03</td>\n",
       "      <td>7.640051e-03</td>\n",
       "      <td>7.641854e-03</td>\n",
       "      <td>7.643664e-03</td>\n",
       "      <td>7.645468e-03</td>\n",
       "      <td>...</td>\n",
       "      <td>7.667134e-03</td>\n",
       "      <td>7.668949e-03</td>\n",
       "      <td>7.670756e-03</td>\n",
       "      <td>7.672573e-03</td>\n",
       "      <td>7.674388e-03</td>\n",
       "      <td>7.676206e-03</td>\n",
       "      <td>7.678031e-03</td>\n",
       "      <td>7.679846e-03</td>\n",
       "      <td>7.681899e-03</td>\n",
       "      <td>7.683721e-03</td>\n",
       "    </tr>\n",
       "    <tr>\n",
       "      <th>min</th>\n",
       "      <td>-74.046587</td>\n",
       "      <td>40.684296</td>\n",
       "      <td>1.940000e-07</td>\n",
       "      <td>1.950000e-07</td>\n",
       "      <td>1.950000e-07</td>\n",
       "      <td>1.950000e-07</td>\n",
       "      <td>1.950000e-07</td>\n",
       "      <td>1.950000e-07</td>\n",
       "      <td>1.950000e-07</td>\n",
       "      <td>1.950000e-07</td>\n",
       "      <td>...</td>\n",
       "      <td>1.950000e-07</td>\n",
       "      <td>1.950000e-07</td>\n",
       "      <td>1.950000e-07</td>\n",
       "      <td>1.950000e-07</td>\n",
       "      <td>1.950000e-07</td>\n",
       "      <td>1.950000e-07</td>\n",
       "      <td>1.950000e-07</td>\n",
       "      <td>1.950000e-07</td>\n",
       "      <td>1.950000e-07</td>\n",
       "      <td>1.950000e-07</td>\n",
       "    </tr>\n",
       "    <tr>\n",
       "      <th>25%</th>\n",
       "      <td>-73.989709</td>\n",
       "      <td>40.740870</td>\n",
       "      <td>4.110000e-05</td>\n",
       "      <td>4.110000e-05</td>\n",
       "      <td>4.117500e-05</td>\n",
       "      <td>4.117500e-05</td>\n",
       "      <td>4.120000e-05</td>\n",
       "      <td>4.127500e-05</td>\n",
       "      <td>4.127500e-05</td>\n",
       "      <td>4.127500e-05</td>\n",
       "      <td>...</td>\n",
       "      <td>4.227500e-05</td>\n",
       "      <td>4.227500e-05</td>\n",
       "      <td>4.227500e-05</td>\n",
       "      <td>4.227500e-05</td>\n",
       "      <td>4.227500e-05</td>\n",
       "      <td>4.245000e-05</td>\n",
       "      <td>4.252500e-05</td>\n",
       "      <td>4.267500e-05</td>\n",
       "      <td>4.267500e-05</td>\n",
       "      <td>4.267500e-05</td>\n",
       "    </tr>\n",
       "    <tr>\n",
       "      <th>50%</th>\n",
       "      <td>-73.968843</td>\n",
       "      <td>40.771777</td>\n",
       "      <td>9.775000e-05</td>\n",
       "      <td>9.775000e-05</td>\n",
       "      <td>9.775000e-05</td>\n",
       "      <td>9.790000e-05</td>\n",
       "      <td>9.795000e-05</td>\n",
       "      <td>9.805000e-05</td>\n",
       "      <td>9.805000e-05</td>\n",
       "      <td>9.805000e-05</td>\n",
       "      <td>...</td>\n",
       "      <td>9.980000e-05</td>\n",
       "      <td>9.980000e-05</td>\n",
       "      <td>9.997450e-05</td>\n",
       "      <td>9.998300e-05</td>\n",
       "      <td>9.999150e-05</td>\n",
       "      <td>1.002570e-04</td>\n",
       "      <td>1.002860e-04</td>\n",
       "      <td>1.006030e-04</td>\n",
       "      <td>1.006325e-04</td>\n",
       "      <td>1.006615e-04</td>\n",
       "    </tr>\n",
       "    <tr>\n",
       "      <th>75%</th>\n",
       "      <td>-73.946185</td>\n",
       "      <td>40.804065</td>\n",
       "      <td>1.965810e-04</td>\n",
       "      <td>1.966367e-04</td>\n",
       "      <td>1.967895e-04</td>\n",
       "      <td>1.968398e-04</td>\n",
       "      <td>1.974920e-04</td>\n",
       "      <td>1.980892e-04</td>\n",
       "      <td>1.981685e-04</td>\n",
       "      <td>1.982483e-04</td>\n",
       "      <td>...</td>\n",
       "      <td>2.010842e-04</td>\n",
       "      <td>2.011723e-04</td>\n",
       "      <td>2.012650e-04</td>\n",
       "      <td>2.013557e-04</td>\n",
       "      <td>2.014595e-04</td>\n",
       "      <td>2.016520e-04</td>\n",
       "      <td>2.017515e-04</td>\n",
       "      <td>2.019810e-04</td>\n",
       "      <td>2.024707e-04</td>\n",
       "      <td>2.025275e-04</td>\n",
       "    </tr>\n",
       "    <tr>\n",
       "      <th>max</th>\n",
       "      <td>-73.911086</td>\n",
       "      <td>40.876261</td>\n",
       "      <td>1.940431e-01</td>\n",
       "      <td>1.940789e-01</td>\n",
       "      <td>1.941147e-01</td>\n",
       "      <td>1.941504e-01</td>\n",
       "      <td>1.941862e-01</td>\n",
       "      <td>1.942220e-01</td>\n",
       "      <td>1.942578e-01</td>\n",
       "      <td>1.942935e-01</td>\n",
       "      <td>...</td>\n",
       "      <td>1.946514e-01</td>\n",
       "      <td>1.946872e-01</td>\n",
       "      <td>1.947230e-01</td>\n",
       "      <td>1.947588e-01</td>\n",
       "      <td>1.947946e-01</td>\n",
       "      <td>1.948304e-01</td>\n",
       "      <td>1.948662e-01</td>\n",
       "      <td>1.949020e-01</td>\n",
       "      <td>1.949378e-01</td>\n",
       "      <td>1.949736e-01</td>\n",
       "    </tr>\n",
       "  </tbody>\n",
       "</table>\n",
       "<p>8 rows × 29 columns</p>\n",
       "</div>"
      ],
      "text/plain": [
       "         longitude     latitude  10/27/12 0:00  10/27/12 12:00  10/28/12 0:00  \\\n",
       "count  2100.000000  2100.000000   2.100000e+03    2.100000e+03   2.100000e+03   \n",
       "mean    -73.968207    40.774830   9.068156e-04    9.070401e-04   9.072788e-04   \n",
       "std       0.027031     0.044345   7.632833e-03    7.634636e-03   7.636442e-03   \n",
       "min     -74.046587    40.684296   1.940000e-07    1.950000e-07   1.950000e-07   \n",
       "25%     -73.989709    40.740870   4.110000e-05    4.110000e-05   4.117500e-05   \n",
       "50%     -73.968843    40.771777   9.775000e-05    9.775000e-05   9.775000e-05   \n",
       "75%     -73.946185    40.804065   1.965810e-04    1.966367e-04   1.967895e-04   \n",
       "max     -73.911086    40.876261   1.940431e-01    1.940789e-01   1.941147e-01   \n",
       "\n",
       "       10/28/12 12:00  10/29/12 0:00  10/29/12 12:00  10/30/12 0:00  \\\n",
       "count    2.100000e+03   2.100000e+03    2.100000e+03   2.100000e+03   \n",
       "mean     9.077028e-04   9.080505e-04    9.083254e-04   9.086161e-04   \n",
       "std      7.638241e-03   7.640051e-03    7.641854e-03   7.643664e-03   \n",
       "min      1.950000e-07   1.950000e-07    1.950000e-07   1.950000e-07   \n",
       "25%      4.117500e-05   4.120000e-05    4.127500e-05   4.127500e-05   \n",
       "50%      9.790000e-05   9.795000e-05    9.805000e-05   9.805000e-05   \n",
       "75%      1.968398e-04   1.974920e-04    1.980892e-04   1.981685e-04   \n",
       "max      1.941504e-01   1.941862e-01    1.942220e-01   1.942578e-01   \n",
       "\n",
       "       10/30/12 12:00  ...  11/4/12 12:00  11/5/12 0:00  11/5/12 12:00  \\\n",
       "count    2.100000e+03  ...   2.100000e+03  2.100000e+03   2.100000e+03   \n",
       "mean     9.088420e-04  ...   9.195066e-04  9.198320e-04   9.202143e-04   \n",
       "std      7.645468e-03  ...   7.667134e-03  7.668949e-03   7.670756e-03   \n",
       "min      1.950000e-07  ...   1.950000e-07  1.950000e-07   1.950000e-07   \n",
       "25%      4.127500e-05  ...   4.227500e-05  4.227500e-05   4.227500e-05   \n",
       "50%      9.805000e-05  ...   9.980000e-05  9.980000e-05   9.997450e-05   \n",
       "75%      1.982483e-04  ...   2.010842e-04  2.011723e-04   2.012650e-04   \n",
       "max      1.942935e-01  ...   1.946514e-01  1.946872e-01   1.947230e-01   \n",
       "\n",
       "       11/6/12 0:00  11/6/12 12:00  11/7/12 0:00  11/7/12 12:00  11/8/12 0:00  \\\n",
       "count  2.100000e+03   2.100000e+03  2.100000e+03   2.100000e+03  2.100000e+03   \n",
       "mean   9.204650e-04   9.207553e-04  9.216068e-04   9.219146e-04  9.227145e-04   \n",
       "std    7.672573e-03   7.674388e-03  7.676206e-03   7.678031e-03  7.679846e-03   \n",
       "min    1.950000e-07   1.950000e-07  1.950000e-07   1.950000e-07  1.950000e-07   \n",
       "25%    4.227500e-05   4.227500e-05  4.245000e-05   4.252500e-05  4.267500e-05   \n",
       "50%    9.998300e-05   9.999150e-05  1.002570e-04   1.002860e-04  1.006030e-04   \n",
       "75%    2.013557e-04   2.014595e-04  2.016520e-04   2.017515e-04  2.019810e-04   \n",
       "max    1.947588e-01   1.947946e-01  1.948304e-01   1.948662e-01  1.949020e-01   \n",
       "\n",
       "       11/8/12 12:00  11/9/12 0:00  \n",
       "count   2.100000e+03  2.100000e+03  \n",
       "mean    9.241808e-04  9.244133e-04  \n",
       "std     7.681899e-03  7.683721e-03  \n",
       "min     1.950000e-07  1.950000e-07  \n",
       "25%     4.267500e-05  4.267500e-05  \n",
       "50%     1.006325e-04  1.006615e-04  \n",
       "75%     2.024707e-04  2.025275e-04  \n",
       "max     1.949378e-01  1.949736e-01  \n",
       "\n",
       "[8 rows x 29 columns]"
      ]
     },
     "metadata": {},
     "execution_count": 136
    }
   ],
   "metadata": {}
  },
  {
   "cell_type": "markdown",
   "source": [
    "This returns the maximimum $P(failure) \\;\\; \\forall \\; $ assets over all timestamps "
   ],
   "metadata": {}
  },
  {
   "cell_type": "code",
   "execution_count": 193,
   "source": [
    "df_assets.drop(['reference', 'longitude', 'latitude'], axis=1).apply(np.max, axis=1)"
   ],
   "outputs": [
    {
     "output_type": "execute_result",
     "data": {
      "text/plain": [
       "0       0.000095\n",
       "1       0.000085\n",
       "2       0.000021\n",
       "3       0.000157\n",
       "4       0.000016\n",
       "          ...   \n",
       "2095    0.000024\n",
       "2096    0.000022\n",
       "2097    0.000074\n",
       "2098    0.000269\n",
       "2099    0.003626\n",
       "Length: 2100, dtype: float64"
      ]
     },
     "metadata": {},
     "execution_count": 193
    }
   ],
   "metadata": {}
  },
  {
   "cell_type": "markdown",
   "source": [
    "An important stat is the average asset failure probability shown below:"
   ],
   "metadata": {}
  },
  {
   "cell_type": "code",
   "execution_count": 173,
   "source": [
    "avg_asset_fail = df_assets.drop(['reference', 'longitude', 'latitude'], axis=1).apply(np.mean)\n",
    "plt.figure()\n",
    "avg_asset_fail.plot(title='Average Asset Failure Probability Oct. 27th-Nov. 8th', rot=45, marker='+')\n",
    "plt.xlabel('Timestamps')\n",
    "plt.ylabel('Average Asset Failure Probability (%)')\n",
    "plt.plot()"
   ],
   "outputs": [
    {
     "output_type": "execute_result",
     "data": {
      "text/plain": [
       "[]"
      ]
     },
     "metadata": {},
     "execution_count": 173
    },
    {
     "output_type": "display_data",
     "data": {
      "image/png": "[encoded data removed]",
      "text/plain": [
       "<Figure size 432x288 with 1 Axes>"
      ]
     },
     "metadata": {
      "needs_background": "light"
     }
    }
   ],
   "metadata": {}
  },
  {
   "cell_type": "markdown",
   "source": [
    "Finding the highest failure probability for each asset"
   ],
   "metadata": {}
  },
  {
   "cell_type": "code",
   "execution_count": 99,
   "source": [
    "df_timestamps = df_assets.drop(['reference','longitude', 'latitude'], axis=1)\n",
    "df_timestamps.apply(np.max, axis=1).describe()"
   ],
   "outputs": [
    {
     "output_type": "execute_result",
     "data": {
      "text/plain": [
       "count    2.100000e+03\n",
       "mean     9.244133e-04\n",
       "std      7.683721e-03\n",
       "min      1.950000e-07\n",
       "25%      4.267500e-05\n",
       "50%      1.006615e-04\n",
       "75%      2.025275e-04\n",
       "max      1.949736e-01\n",
       "dtype: float64"
      ]
     },
     "metadata": {},
     "execution_count": 99
    }
   ],
   "metadata": {}
  },
  {
   "cell_type": "markdown",
   "source": [
    "## Plotting failure probability over time for the first few assets"
   ],
   "metadata": {}
  },
  {
   "cell_type": "code",
   "execution_count": 176,
   "source": [
    "plt.figure()\n",
    "df_timestamps.loc[0, : ].plot(title=' Asset 1 Failure Probability Oct. 27th-Nov. 8th', rot=45, marker='+')\n",
    "plt.xlabel('Timestamps')\n",
    "plt.ylabel('   Average Asset Failure Probability (%)')\n",
    "plt.plot()"
   ],
   "outputs": [
    {
     "output_type": "execute_result",
     "data": {
      "text/plain": [
       "[]"
      ]
     },
     "metadata": {},
     "execution_count": 176
    },
    {
     "output_type": "display_data",
     "data": {
      "image/png": "[encoded data removed]",
      "text/plain": [
       "<Figure size 432x288 with 1 Axes>"
      ]
     },
     "metadata": {
      "needs_background": "light"
     }
    }
   ],
   "metadata": {}
  },
  {
   "cell_type": "markdown",
   "source": [
    "Finding which assets have highest failure probability at each timestamp:"
   ],
   "metadata": {}
  },
  {
   "cell_type": "code",
   "execution_count": 102,
   "source": [
    "df_timestamps.apply(np.max)"
   ],
   "outputs": [
    {
     "output_type": "execute_result",
     "data": {
      "text/plain": [
       "10/27/12 0:00     0.194043\n",
       "10/27/12 12:00    0.194079\n",
       "10/28/12 0:00     0.194115\n",
       "10/28/12 12:00    0.194150\n",
       "10/29/12 0:00     0.194186\n",
       "10/29/12 12:00    0.194222\n",
       "10/30/12 0:00     0.194258\n",
       "10/30/12 12:00    0.194294\n",
       "10/31/12 0:00     0.194329\n",
       "10/31/12 12:00    0.194365\n",
       "11/1/12 0:00      0.194401\n",
       "11/1/12 12:00     0.194437\n",
       "11/2/12 0:00      0.194472\n",
       "11/2/12 12:00     0.194508\n",
       "11/3/12 0:00      0.194544\n",
       "11/3/12 12:00     0.194580\n",
       "11/4/12 0:00      0.194616\n",
       "11/4/12 12:00     0.194651\n",
       "11/5/12 0:00      0.194687\n",
       "11/5/12 12:00     0.194723\n",
       "11/6/12 0:00      0.194759\n",
       "11/6/12 12:00     0.194795\n",
       "11/7/12 0:00      0.194830\n",
       "11/7/12 12:00     0.194866\n",
       "11/8/12 0:00      0.194902\n",
       "11/8/12 12:00     0.194938\n",
       "11/9/12 0:00      0.194974\n",
       "dtype: float64"
      ]
     },
     "metadata": {},
     "execution_count": 102
    }
   ],
   "metadata": {}
  },
  {
   "cell_type": "code",
   "execution_count": 96,
   "source": [
    "df_timestamps.loc[1, : ].plot()"
   ],
   "outputs": [
    {
     "output_type": "execute_result",
     "data": {
      "text/plain": [
       "<matplotlib.axes._subplots.AxesSubplot at 0x7f93535c2470>"
      ]
     },
     "metadata": {},
     "execution_count": 96
    },
    {
     "output_type": "display_data",
     "data": {
      "image/png": "[encoded data removed]",
      "text/plain": [
       "<Figure size 432x288 with 1 Axes>"
      ]
     },
     "metadata": {
      "needs_background": "light"
     }
    }
   ],
   "metadata": {}
  },
  {
   "cell_type": "code",
   "execution_count": 118,
   "source": [
    "for _ in range(2): \n",
    "    df_timestamps.loc[_, : ].plot()"
   ],
   "outputs": [
    {
     "output_type": "display_data",
     "data": {
      "image/png": "[encoded data removed]",
      "text/plain": [
       "<Figure size 432x288 with 1 Axes>"
      ]
     },
     "metadata": {
      "needs_background": "light"
     }
    }
   ],
   "metadata": {}
  },
  {
   "cell_type": "code",
   "execution_count": 123,
   "source": [
    "# Same probability throughout -> not registering/updating?\n",
    "df_timestamps.loc[2, : ].plot()"
   ],
   "outputs": [
    {
     "output_type": "execute_result",
     "data": {
      "text/plain": [
       "<matplotlib.axes._subplots.AxesSubplot at 0x7f935961ef28>"
      ]
     },
     "metadata": {},
     "execution_count": 123
    },
    {
     "output_type": "display_data",
     "data": {
      "image/png": "[encoded data removed]",
      "text/plain": [
       "<Figure size 432x288 with 1 Axes>"
      ]
     },
     "metadata": {
      "needs_background": "light"
     }
    }
   ],
   "metadata": {}
  },
  {
   "cell_type": "markdown",
   "source": [
    "## Visualizing all assets geographically"
   ],
   "metadata": {}
  },
  {
   "cell_type": "code",
   "execution_count": 111,
   "source": [
    "# Scatterplot as a test to visualize assets geographically-> matches with streamlit geo plot!  \n",
    "df_assets.plot.scatter(x='latitude', y='longitude')"
   ],
   "outputs": [
    {
     "output_type": "execute_result",
     "data": {
      "text/plain": [
       "<matplotlib.axes._subplots.AxesSubplot at 0x7f93584bc5c0>"
      ]
     },
     "metadata": {},
     "execution_count": 111
    },
    {
     "output_type": "display_data",
     "data": {
      "image/png": "[encoded data removed]",
      "text/plain": [
       "<Figure size 432x288 with 1 Axes>"
      ]
     },
     "metadata": {
      "needs_background": "light"
     }
    }
   ],
   "metadata": {}
  },
  {
   "cell_type": "code",
   "execution_count": 128,
   "source": [
    "# 3rd quadrant\n",
    "df_assets[(df_assets['longitude'] < -73.93843) & (df_assets['latitude'] < 40.771777)].plot.scatter(x='latitude', y='longitude')"
   ],
   "outputs": [
    {
     "output_type": "execute_result",
     "data": {
      "text/plain": [
       "<matplotlib.axes._subplots.AxesSubplot at 0x7f93597f5c18>"
      ]
     },
     "metadata": {},
     "execution_count": 128
    },
    {
     "output_type": "display_data",
     "data": {
      "image/png": "[encoded data removed]",
      "text/plain": [
       "<Figure size 432x288 with 1 Axes>"
      ]
     },
     "metadata": {
      "needs_background": "light"
     }
    }
   ],
   "metadata": {}
  },
  {
   "cell_type": "markdown",
   "source": [
    "## Extreme/Outlier failure probability exploration"
   ],
   "metadata": {}
  },
  {
   "cell_type": "code",
   "execution_count": 135,
   "source": [
    "# 2nd quadrant \n",
    "df_assets[(df_assets['longitude'] > -73.93843) & (df_assets['latitude'] < 40.771777)].plot.scatter(x='latitude', y='longitude')"
   ],
   "outputs": [
    {
     "output_type": "execute_result",
     "data": {
      "text/plain": [
       "<matplotlib.axes._subplots.AxesSubplot at 0x7f935818a7b8>"
      ]
     },
     "metadata": {},
     "execution_count": 135
    },
    {
     "output_type": "display_data",
     "data": {
      "image/png": "[encoded data removed]",
      "text/plain": [
       "<Figure size 432x288 with 1 Axes>"
      ]
     },
     "metadata": {
      "needs_background": "light"
     }
    }
   ],
   "metadata": {}
  },
  {
   "cell_type": "code",
   "execution_count": 186,
   "source": [
    "# Necessary?\n",
    "plt.figure()\n",
    "df_timestamps.apply(np.max).plot(rot=45, marker='+')\n",
    "plt.xlabel('Timestamps')\n",
    "plt.ylabel('Maximum Asset Failure Probability (%)')\n",
    "plt.plot()"
   ],
   "outputs": [
    {
     "output_type": "execute_result",
     "data": {
      "text/plain": [
       "[]"
      ]
     },
     "metadata": {},
     "execution_count": 186
    },
    {
     "output_type": "display_data",
     "data": {
      "image/png": "[encoded data removed]",
      "text/plain": [
       "<Figure size 432x288 with 1 Axes>"
      ]
     },
     "metadata": {
      "needs_background": "light"
     }
    }
   ],
   "metadata": {}
  },
  {
   "cell_type": "code",
   "execution_count": 188,
   "source": [
    "plt.figure()\n",
    "df_timestamps.apply(np.min).plot(rot=45, marker='+')\n",
    "plt.xlabel('Timestamps')\n",
    "plt.ylabel('Minimum Asset Failure Probability (%)')\n",
    "plt.plot()"
   ],
   "outputs": [
    {
     "output_type": "execute_result",
     "data": {
      "text/plain": [
       "[]"
      ]
     },
     "metadata": {},
     "execution_count": 188
    },
    {
     "output_type": "display_data",
     "data": {
      "image/png": "[encoded data removed]",
      "text/plain": [
       "<Figure size 432x288 with 1 Axes>"
      ]
     },
     "metadata": {
      "needs_background": "light"
     }
    }
   ],
   "metadata": {}
  },
  {
   "cell_type": "code",
   "execution_count": 163,
   "source": [
    "top_50 = df_assets.sort_values(by='11/9/12 0:00', ascending=False)\n",
    "top_50[0:50][['longitude', 'latitude']]"
   ],
   "outputs": [
    {
     "output_type": "execute_result",
     "data": {
      "text/html": [
       "<div>\n",
       "<style scoped>\n",
       "    .dataframe tbody tr th:only-of-type {\n",
       "        vertical-align: middle;\n",
       "    }\n",
       "\n",
       "    .dataframe tbody tr th {\n",
       "        vertical-align: top;\n",
       "    }\n",
       "\n",
       "    .dataframe thead th {\n",
       "        text-align: right;\n",
       "    }\n",
       "</style>\n",
       "<table border=\"1\" class=\"dataframe\">\n",
       "  <thead>\n",
       "    <tr style=\"text-align: right;\">\n",
       "      <th></th>\n",
       "      <th>longitude</th>\n",
       "      <th>latitude</th>\n",
       "    </tr>\n",
       "  </thead>\n",
       "  <tbody>\n",
       "    <tr>\n",
       "      <th>1354</th>\n",
       "      <td>-73.917163</td>\n",
       "      <td>40.790896</td>\n",
       "    </tr>\n",
       "    <tr>\n",
       "      <th>986</th>\n",
       "      <td>-73.988286</td>\n",
       "      <td>40.758487</td>\n",
       "    </tr>\n",
       "    <tr>\n",
       "      <th>65</th>\n",
       "      <td>-73.941500</td>\n",
       "      <td>40.816659</td>\n",
       "    </tr>\n",
       "    <tr>\n",
       "      <th>1141</th>\n",
       "      <td>-73.997352</td>\n",
       "      <td>40.755995</td>\n",
       "    </tr>\n",
       "    <tr>\n",
       "      <th>189</th>\n",
       "      <td>-74.010296</td>\n",
       "      <td>40.711857</td>\n",
       "    </tr>\n",
       "    <tr>\n",
       "      <th>940</th>\n",
       "      <td>-73.956731</td>\n",
       "      <td>40.775849</td>\n",
       "    </tr>\n",
       "    <tr>\n",
       "      <th>688</th>\n",
       "      <td>-73.988575</td>\n",
       "      <td>40.729296</td>\n",
       "    </tr>\n",
       "    <tr>\n",
       "      <th>420</th>\n",
       "      <td>-73.958292</td>\n",
       "      <td>40.817908</td>\n",
       "    </tr>\n",
       "    <tr>\n",
       "      <th>1450</th>\n",
       "      <td>-73.940583</td>\n",
       "      <td>40.837362</td>\n",
       "    </tr>\n",
       "    <tr>\n",
       "      <th>879</th>\n",
       "      <td>-73.956279</td>\n",
       "      <td>40.821434</td>\n",
       "    </tr>\n",
       "    <tr>\n",
       "      <th>1639</th>\n",
       "      <td>-73.952283</td>\n",
       "      <td>40.788332</td>\n",
       "    </tr>\n",
       "    <tr>\n",
       "      <th>642</th>\n",
       "      <td>-73.965594</td>\n",
       "      <td>40.751409</td>\n",
       "    </tr>\n",
       "    <tr>\n",
       "      <th>408</th>\n",
       "      <td>-74.016294</td>\n",
       "      <td>40.714995</td>\n",
       "    </tr>\n",
       "    <tr>\n",
       "      <th>1641</th>\n",
       "      <td>-73.938859</td>\n",
       "      <td>40.807401</td>\n",
       "    </tr>\n",
       "    <tr>\n",
       "      <th>817</th>\n",
       "      <td>-73.956855</td>\n",
       "      <td>40.819590</td>\n",
       "    </tr>\n",
       "    <tr>\n",
       "      <th>1533</th>\n",
       "      <td>-73.943539</td>\n",
       "      <td>40.799278</td>\n",
       "    </tr>\n",
       "    <tr>\n",
       "      <th>677</th>\n",
       "      <td>-73.986168</td>\n",
       "      <td>40.739452</td>\n",
       "    </tr>\n",
       "    <tr>\n",
       "      <th>1866</th>\n",
       "      <td>-74.022134</td>\n",
       "      <td>40.685075</td>\n",
       "    </tr>\n",
       "    <tr>\n",
       "      <th>1154</th>\n",
       "      <td>-73.925754</td>\n",
       "      <td>40.783048</td>\n",
       "    </tr>\n",
       "    <tr>\n",
       "      <th>980</th>\n",
       "      <td>-73.925225</td>\n",
       "      <td>40.795864</td>\n",
       "    </tr>\n",
       "    <tr>\n",
       "      <th>966</th>\n",
       "      <td>-73.985145</td>\n",
       "      <td>40.775900</td>\n",
       "    </tr>\n",
       "    <tr>\n",
       "      <th>1070</th>\n",
       "      <td>-73.962072</td>\n",
       "      <td>40.770768</td>\n",
       "    </tr>\n",
       "    <tr>\n",
       "      <th>552</th>\n",
       "      <td>-73.985610</td>\n",
       "      <td>40.780030</td>\n",
       "    </tr>\n",
       "    <tr>\n",
       "      <th>435</th>\n",
       "      <td>-73.971595</td>\n",
       "      <td>40.804568</td>\n",
       "    </tr>\n",
       "    <tr>\n",
       "      <th>1435</th>\n",
       "      <td>-73.996003</td>\n",
       "      <td>40.743776</td>\n",
       "    </tr>\n",
       "    <tr>\n",
       "      <th>401</th>\n",
       "      <td>-73.926973</td>\n",
       "      <td>40.856551</td>\n",
       "    </tr>\n",
       "    <tr>\n",
       "      <th>445</th>\n",
       "      <td>-74.003686</td>\n",
       "      <td>40.708550</td>\n",
       "    </tr>\n",
       "    <tr>\n",
       "      <th>287</th>\n",
       "      <td>-74.014874</td>\n",
       "      <td>40.701591</td>\n",
       "    </tr>\n",
       "    <tr>\n",
       "      <th>1577</th>\n",
       "      <td>-73.982339</td>\n",
       "      <td>40.774218</td>\n",
       "    </tr>\n",
       "    <tr>\n",
       "      <th>1022</th>\n",
       "      <td>-73.966648</td>\n",
       "      <td>40.797661</td>\n",
       "    </tr>\n",
       "    <tr>\n",
       "      <th>1890</th>\n",
       "      <td>-73.950021</td>\n",
       "      <td>40.771416</td>\n",
       "    </tr>\n",
       "    <tr>\n",
       "      <th>28</th>\n",
       "      <td>-73.949891</td>\n",
       "      <td>40.830166</td>\n",
       "    </tr>\n",
       "    <tr>\n",
       "      <th>1858</th>\n",
       "      <td>-73.973275</td>\n",
       "      <td>40.736951</td>\n",
       "    </tr>\n",
       "    <tr>\n",
       "      <th>816</th>\n",
       "      <td>-73.941792</td>\n",
       "      <td>40.770401</td>\n",
       "    </tr>\n",
       "    <tr>\n",
       "      <th>963</th>\n",
       "      <td>-73.985281</td>\n",
       "      <td>40.733288</td>\n",
       "    </tr>\n",
       "    <tr>\n",
       "      <th>933</th>\n",
       "      <td>-73.949843</td>\n",
       "      <td>40.816494</td>\n",
       "    </tr>\n",
       "    <tr>\n",
       "      <th>1240</th>\n",
       "      <td>-73.971239</td>\n",
       "      <td>40.752302</td>\n",
       "    </tr>\n",
       "    <tr>\n",
       "      <th>405</th>\n",
       "      <td>-73.969372</td>\n",
       "      <td>40.756055</td>\n",
       "    </tr>\n",
       "    <tr>\n",
       "      <th>92</th>\n",
       "      <td>-73.965332</td>\n",
       "      <td>40.794758</td>\n",
       "    </tr>\n",
       "    <tr>\n",
       "      <th>922</th>\n",
       "      <td>-73.933987</td>\n",
       "      <td>40.860066</td>\n",
       "    </tr>\n",
       "    <tr>\n",
       "      <th>1215</th>\n",
       "      <td>-73.946438</td>\n",
       "      <td>40.810855</td>\n",
       "    </tr>\n",
       "    <tr>\n",
       "      <th>659</th>\n",
       "      <td>-73.995842</td>\n",
       "      <td>40.747929</td>\n",
       "    </tr>\n",
       "    <tr>\n",
       "      <th>941</th>\n",
       "      <td>-73.967861</td>\n",
       "      <td>40.764469</td>\n",
       "    </tr>\n",
       "    <tr>\n",
       "      <th>94</th>\n",
       "      <td>-73.936751</td>\n",
       "      <td>40.847853</td>\n",
       "    </tr>\n",
       "    <tr>\n",
       "      <th>443</th>\n",
       "      <td>-73.988468</td>\n",
       "      <td>40.740805</td>\n",
       "    </tr>\n",
       "    <tr>\n",
       "      <th>1674</th>\n",
       "      <td>-74.002215</td>\n",
       "      <td>40.709982</td>\n",
       "    </tr>\n",
       "    <tr>\n",
       "      <th>1627</th>\n",
       "      <td>-73.980958</td>\n",
       "      <td>40.736863</td>\n",
       "    </tr>\n",
       "    <tr>\n",
       "      <th>696</th>\n",
       "      <td>-73.980980</td>\n",
       "      <td>40.754639</td>\n",
       "    </tr>\n",
       "    <tr>\n",
       "      <th>1192</th>\n",
       "      <td>-73.985909</td>\n",
       "      <td>40.774834</td>\n",
       "    </tr>\n",
       "    <tr>\n",
       "      <th>705</th>\n",
       "      <td>-74.008543</td>\n",
       "      <td>40.737177</td>\n",
       "    </tr>\n",
       "  </tbody>\n",
       "</table>\n",
       "</div>"
      ],
      "text/plain": [
       "      longitude   latitude\n",
       "1354 -73.917163  40.790896\n",
       "986  -73.988286  40.758487\n",
       "65   -73.941500  40.816659\n",
       "1141 -73.997352  40.755995\n",
       "189  -74.010296  40.711857\n",
       "940  -73.956731  40.775849\n",
       "688  -73.988575  40.729296\n",
       "420  -73.958292  40.817908\n",
       "1450 -73.940583  40.837362\n",
       "879  -73.956279  40.821434\n",
       "1639 -73.952283  40.788332\n",
       "642  -73.965594  40.751409\n",
       "408  -74.016294  40.714995\n",
       "1641 -73.938859  40.807401\n",
       "817  -73.956855  40.819590\n",
       "1533 -73.943539  40.799278\n",
       "677  -73.986168  40.739452\n",
       "1866 -74.022134  40.685075\n",
       "1154 -73.925754  40.783048\n",
       "980  -73.925225  40.795864\n",
       "966  -73.985145  40.775900\n",
       "1070 -73.962072  40.770768\n",
       "552  -73.985610  40.780030\n",
       "435  -73.971595  40.804568\n",
       "1435 -73.996003  40.743776\n",
       "401  -73.926973  40.856551\n",
       "445  -74.003686  40.708550\n",
       "287  -74.014874  40.701591\n",
       "1577 -73.982339  40.774218\n",
       "1022 -73.966648  40.797661\n",
       "1890 -73.950021  40.771416\n",
       "28   -73.949891  40.830166\n",
       "1858 -73.973275  40.736951\n",
       "816  -73.941792  40.770401\n",
       "963  -73.985281  40.733288\n",
       "933  -73.949843  40.816494\n",
       "1240 -73.971239  40.752302\n",
       "405  -73.969372  40.756055\n",
       "92   -73.965332  40.794758\n",
       "922  -73.933987  40.860066\n",
       "1215 -73.946438  40.810855\n",
       "659  -73.995842  40.747929\n",
       "941  -73.967861  40.764469\n",
       "94   -73.936751  40.847853\n",
       "443  -73.988468  40.740805\n",
       "1674 -74.002215  40.709982\n",
       "1627 -73.980958  40.736863\n",
       "696  -73.980980  40.754639\n",
       "1192 -73.985909  40.774834\n",
       "705  -74.008543  40.737177"
      ]
     },
     "metadata": {},
     "execution_count": 163
    }
   ],
   "metadata": {}
  },
  {
   "cell_type": "code",
   "execution_count": 155,
   "source": [
    "df_assets.loc[(df_assets['10/27/12 0:00'] > df_assets['10/27/12 0:00'].mean())][['longitude','latitude']]\n"
   ],
   "outputs": [
    {
     "output_type": "execute_result",
     "data": {
      "text/html": [
       "<div>\n",
       "<style scoped>\n",
       "    .dataframe tbody tr th:only-of-type {\n",
       "        vertical-align: middle;\n",
       "    }\n",
       "\n",
       "    .dataframe tbody tr th {\n",
       "        vertical-align: top;\n",
       "    }\n",
       "\n",
       "    .dataframe thead th {\n",
       "        text-align: right;\n",
       "    }\n",
       "</style>\n",
       "<table border=\"1\" class=\"dataframe\">\n",
       "  <thead>\n",
       "    <tr style=\"text-align: right;\">\n",
       "      <th></th>\n",
       "      <th>longitude</th>\n",
       "      <th>latitude</th>\n",
       "    </tr>\n",
       "  </thead>\n",
       "  <tbody>\n",
       "    <tr>\n",
       "      <th>5</th>\n",
       "      <td>-73.978883</td>\n",
       "      <td>40.753527</td>\n",
       "    </tr>\n",
       "    <tr>\n",
       "      <th>7</th>\n",
       "      <td>-73.935742</td>\n",
       "      <td>40.831891</td>\n",
       "    </tr>\n",
       "    <tr>\n",
       "      <th>21</th>\n",
       "      <td>-73.964632</td>\n",
       "      <td>40.775555</td>\n",
       "    </tr>\n",
       "    <tr>\n",
       "      <th>23</th>\n",
       "      <td>-73.965616</td>\n",
       "      <td>40.804763</td>\n",
       "    </tr>\n",
       "    <tr>\n",
       "      <th>28</th>\n",
       "      <td>-73.949891</td>\n",
       "      <td>40.830166</td>\n",
       "    </tr>\n",
       "    <tr>\n",
       "      <th>...</th>\n",
       "      <td>...</td>\n",
       "      <td>...</td>\n",
       "    </tr>\n",
       "    <tr>\n",
       "      <th>1890</th>\n",
       "      <td>-73.950021</td>\n",
       "      <td>40.771416</td>\n",
       "    </tr>\n",
       "    <tr>\n",
       "      <th>1933</th>\n",
       "      <td>-73.945350</td>\n",
       "      <td>40.815153</td>\n",
       "    </tr>\n",
       "    <tr>\n",
       "      <th>1989</th>\n",
       "      <td>-73.944155</td>\n",
       "      <td>40.851519</td>\n",
       "    </tr>\n",
       "    <tr>\n",
       "      <th>2086</th>\n",
       "      <td>-73.914417</td>\n",
       "      <td>40.868081</td>\n",
       "    </tr>\n",
       "    <tr>\n",
       "      <th>2099</th>\n",
       "      <td>-74.019207</td>\n",
       "      <td>40.690228</td>\n",
       "    </tr>\n",
       "  </tbody>\n",
       "</table>\n",
       "<p>159 rows × 2 columns</p>\n",
       "</div>"
      ],
      "text/plain": [
       "      longitude   latitude\n",
       "5    -73.978883  40.753527\n",
       "7    -73.935742  40.831891\n",
       "21   -73.964632  40.775555\n",
       "23   -73.965616  40.804763\n",
       "28   -73.949891  40.830166\n",
       "...         ...        ...\n",
       "1890 -73.950021  40.771416\n",
       "1933 -73.945350  40.815153\n",
       "1989 -73.944155  40.851519\n",
       "2086 -73.914417  40.868081\n",
       "2099 -74.019207  40.690228\n",
       "\n",
       "[159 rows x 2 columns]"
      ]
     },
     "metadata": {},
     "execution_count": 155
    }
   ],
   "metadata": {}
  }
 ],
 "metadata": {
  "orig_nbformat": 4,
  "language_info": {
   "name": "python",
   "version": "3.7.2",
   "mimetype": "text/x-python",
   "codemirror_mode": {
    "name": "ipython",
    "version": 3
   },
   "pygments_lexer": "ipython3",
   "nbconvert_exporter": "python",
   "file_extension": ".py"
  },
  "kernelspec": {
   "name": "python3",
   "display_name": "Python 3.7.2 64-bit"
  },
  "interpreter": {
   "hash": "e774977668b7c0ae8309835a5187aa7fbf7669e7d0bb59755bc63e573643edcd"
  }
 },
 "nbformat": 4,
 "nbformat_minor": 2
}